{
 "cells": [
  {
   "cell_type": "markdown",
   "metadata": {},
   "source": [
    "### Machine_translation (English to French)\n",
    "#### 1. 데이터 불러오기"
   ]
  },
  {
   "cell_type": "code",
   "execution_count": 11,
   "metadata": {},
   "outputs": [],
   "source": [
    "import collections\n",
    "from jupyter_helpers import *\n",
    "import numpy as np\n",
    "from keras.preprocessing.text import Tokenizer\n",
    "from keras.preprocessing.sequence import pad_sequences\n",
    "from keras.models import Model\n",
    "from keras.layers import GRU, Input, Dense, TimeDistributed, Activation, RepeatVector, Bidirectional\n",
    "from keras.layers.embeddings import Embedding\n",
    "from keras.optimizers import Adam\n",
    "from keras.losses import sparse_categorical_crossentropy"
   ]
  },
  {
   "cell_type": "code",
   "execution_count": null,
   "metadata": {},
   "outputs": [],
   "source": [
    "# GPU check\n",
    "from tensorflow.python.client import device_lib\n",
    "print(device_lib.list_local_devices())"
   ]
  },
  {
   "cell_type": "code",
   "execution_count": 13,
   "metadata": {},
   "outputs": [],
   "source": [
    "import os\n",
    "\n",
    "def load_data(path):\n",
    "    input_file = os.path.join(path)\n",
    "    with open(input_file, \"r\", encoding='utf-8') as f:\n",
    "        data = f.read()\n",
    "\n",
    "    return data.split('\\n')"
   ]
  },
  {
   "cell_type": "code",
   "execution_count": 15,
   "metadata": {},
   "outputs": [
    {
     "name": "stdout",
     "output_type": "stream",
     "text": [
      "Dataset Loaded\n"
     ]
    }
   ],
   "source": [
    "# Load English data\n",
    "english_sentences = load_data('C:/Users/mark/Desktop/machine_translator_project/data/small_vocab_en')\n",
    "# Load French data\n",
    "french_sentences = load_data('C:/Users/mark/Desktop/machine_translator_project/data/small_vocab_fr')\n",
    "\n",
    "print('Dataset Loaded')"
   ]
  },
  {
   "cell_type": "markdown",
   "metadata": {},
   "source": [
    "#### 2. small_vocab_en, small_vocab_fr 데이터 첫번째, 두번째 줄 확인"
   ]
  },
  {
   "cell_type": "code",
   "execution_count": 16,
   "metadata": {},
   "outputs": [
    {
     "name": "stdout",
     "output_type": "stream",
     "text": [
      "small_vocab_en 1번째 줄:  new jersey is sometimes quiet during autumn , and it is snowy in april .\n",
      "small_vocab_kr 1번째 줄:  new jersey est parfois calme pendant l' automne , et il est neigeux en avril .\n",
      "small_vocab_en 2번째 줄:  the united states is usually chilly during july , and it is usually freezing in november .\n",
      "small_vocab_kr 2번째 줄:  les états-unis est généralement froid en juillet , et il gèle habituellement en novembre .\n"
     ]
    }
   ],
   "source": [
    "for sample_i in range(2):\n",
    "    print('small_vocab_en Line {}:  {}'.format(sample_i + 1, english_sentences[sample_i]))\n",
    "    print('small_vocab_fr Line {}:  {}'.format(sample_i + 1, french_sentences[sample_i]))"
   ]
  },
  {
   "cell_type": "markdown",
   "metadata": {},
   "source": [
    "#### 학습하는 단어의 수가 많을 수록(다양할수록) 각 특성을 파악하는 일이 많아진다.\n",
    "#### 3. 데이터 셋을 파악한다."
   ]
  },
  {
   "cell_type": "code",
   "execution_count": 17,
   "metadata": {},
   "outputs": [
    {
     "name": "stdout",
     "output_type": "stream",
     "text": [
      "1823250개의 영단어\n",
      "227개의 유일한 영단어\n",
      "가장 출현빈도가 높은 10개의 영단어: \n",
      "\"is\" \",\" \".\" \"in\" \"it\" \"during\" \"the\" \"but\" \"and\" \"sometimes\"\n",
      "\n",
      "1961295개의 프랑스어단어\n",
      "355개의 유일한 프랑스어단어\n",
      "가장 출현빈도가 높은 10개의 프랑스어 단어: \n",
      "\"est\" \".\" \",\" \"en\" \"il\" \"les\" \"mais\" \"et\" \"la\" \"parfois\"\n"
     ]
    }
   ],
   "source": [
    "english_words_counter = collections.Counter([word for sentence in english_sentences for word in sentence.split()])\n",
    "french_words_counter = collections.Counter([word for sentence in french_sentences for word in sentence.split()])\n",
    "\n",
    "print('{} English words.'.format(len([word for sentence in english_sentences for word in sentence.split()])))\n",
    "print('{} unique English words.'.format(len(english_words_counter)))\n",
    "print('10 Most common words in the English dataset:')\n",
    "print('\"' + '\" \"'.join(list(zip(*english_words_counter.most_common(10)))[0]) + '\"')\n",
    "print()\n",
    "print('{} French words.'.format(len([word for sentence in french_sentences for word in sentence.split()])))\n",
    "print('{} unique French words.'.format(len(french_words_counter)))\n",
    "print('10 Most common words in the French dataset:')\n",
    "print('\"' + '\" \"'.join(list(zip(*french_words_counter.most_common(10)))[0]) + '\"')"
   ]
  },
  {
   "cell_type": "markdown",
   "metadata": {},
   "source": [
    "#### 4. 단어의 토큰화(Tokenize)\n",
    "#### keras의 tokenizer 기능을 사용하여 각 문장을 단어ID 값으로 변환한다."
   ]
  },
  {
   "cell_type": "code",
   "execution_count": 19,
   "metadata": {},
   "outputs": [
    {
     "name": "stdout",
     "output_type": "stream",
     "text": [
      "{'the': 1, 'quick': 2, 'a': 3, 'brown': 4, 'fox': 5, 'jumps': 6, 'over': 7, 'lazy': 8, 'dog': 9, 'by': 10, 'jove': 11, 'my': 12, 'study': 13, 'of': 14, 'lexicography': 15, 'won': 16, 'prize': 17, 'this': 18, 'is': 19, 'short': 20, 'sentence': 21}\n",
      "\n",
      "Sequence 1 in x\n",
      "  Input:  The quick brown fox jumps over the lazy dog .\n",
      "  Output: [1, 2, 4, 5, 6, 7, 1, 8, 9]\n",
      "Sequence 2 in x\n",
      "  Input:  By Jove , my quick study of lexicography won a prize .\n",
      "  Output: [10, 11, 12, 2, 13, 14, 15, 16, 3, 17]\n",
      "Sequence 3 in x\n",
      "  Input:  This is a short sentence .\n",
      "  Output: [18, 19, 3, 20, 21]\n"
     ]
    }
   ],
   "source": [
    "def tokenize(x):\n",
    "  tknzer = Tokenizer()\n",
    "  tknzer.fit_on_texts(x)\n",
    "  data = tknzer.texts_to_sequences(x) \n",
    "\n",
    "  return data, tknzer\n",
    "\n",
    "text_sentences = [\n",
    "    'The quick brown fox jumps over the lazy dog .',\n",
    "    'By Jove , my quick study of lexicography won a prize .',\n",
    "    'This is a short sentence .']\n",
    "text_tokenized, text_tokenizer = tokenize(text_sentences)\n",
    "print(text_tokenizer.word_index)\n",
    "print()\n",
    "for sample_i, (sent, token_sent) in enumerate(zip(text_sentences, text_tokenized)):\n",
    "    print('Sequence {} in x'.format(sample_i + 1))\n",
    "    print('  Input:  {}'.format(sent))\n",
    "    print('  Output: {}'.format(token_sent))"
   ]
  },
  {
   "cell_type": "markdown",
   "metadata": {},
   "source": [
    "#### 5. Padding \n",
    "#### 다양한 문장의 길이를 동일한 길이로 통일시킨다. 각 시퀀스의 끝에 패딩을 추가하였다."
   ]
  },
  {
   "cell_type": "code",
   "execution_count": 20,
   "metadata": {},
   "outputs": [
    {
     "name": "stdout",
     "output_type": "stream",
     "text": [
      "Sequence 1 in x\n",
      "  Input:  [1 2 4 5 6 7 1 8 9]\n",
      "  Output: [1 2 4 5 6 7 1 8 9 0]\n",
      "Sequence 2 in x\n",
      "  Input:  [10 11 12  2 13 14 15 16  3 17]\n",
      "  Output: [10 11 12  2 13 14 15 16  3 17]\n",
      "Sequence 3 in x\n",
      "  Input:  [18 19  3 20 21]\n",
      "  Output: [18 19  3 20 21  0  0  0  0  0]\n"
     ]
    }
   ],
   "source": [
    "def pad(x, length=None):\n",
    "    \n",
    "  if length == None: \n",
    "    length = max(map(len, x))\n",
    "    padded = pad_sequences(x, maxlen=length, padding='post')\n",
    "  else:\n",
    "    padded = pad_sequences(x, maxlen=length, padding='post')\n",
    "\n",
    "  return np.array(padded) \n",
    "\n",
    "test_pad = pad(text_tokenized)\n",
    "for sample_i, (token_sent, pad_sent) in enumerate(zip(text_tokenized, test_pad)):\n",
    "    print('Sequence {} in x'.format(sample_i + 1)) # 내가 원하는 결과 예시: [1 2 4 5 6 7 8 9 0]\n",
    "    print('  Input:  {}'.format(np.array(token_sent)))\n",
    "    print('  Output: {}'.format(pad_sent))"
   ]
  },
  {
   "cell_type": "markdown",
   "metadata": {},
   "source": [
    "#### 6. 전처리 파이프라인은 preprocess 함수를 활용하였다."
   ]
  },
  {
   "cell_type": "code",
   "execution_count": 21,
   "metadata": {},
   "outputs": [
    {
     "name": "stdout",
     "output_type": "stream",
     "text": [
      "Data Preprocessed\n",
      "최대 영어 문장 길이: 15\n",
      "최대 프랑스어 문장 길이: 21\n",
      "영어 어휘 사전 크기: 200\n",
      "프랑스어 어휘 사전 크기: 345\n"
     ]
    }
   ],
   "source": [
    "def preprocess(x, y):\n",
    "    \n",
    "    preprocess_x, x_tk = tokenize(x)\n",
    "    preprocess_y, y_tk = tokenize(y)\n",
    "    \n",
    "    preprocess_x = pad(preprocess_x)\n",
    "    preprocess_y = pad(preprocess_y)\n",
    "    \n",
    "    preprocess_y = preprocess_y.reshape(*preprocess_y.shape, 1)\n",
    "\n",
    "    return preprocess_x, preprocess_y, x_tk, y_tk\n",
    "\n",
    "preproc_english_sentences, preproc_french_sentences, english_tokenizer, french_tokenizer =\\\n",
    "    preprocess(english_sentences, french_sentences)\n",
    "    \n",
    "max_english_sequence_length = preproc_english_sentences.shape[1]\n",
    "max_french_sequence_length = preproc_french_sentences.shape[1]\n",
    "english_vocab_size = len(english_tokenizer.word_index)\n",
    "french_vocab_size = len(french_tokenizer.word_index)\n",
    "\n",
    "print('Data Preprocessed')\n",
    "print(\"Max English sentence length:\", max_english_sequence_length)\n",
    "print(\"Max French sentence length:\", max_french_sequence_length)\n",
    "french_vocab_size += 1\n",
    "english_vocab_size += 1\n",
    "print(\"English vocabulary size:\", english_vocab_size) #200\n",
    "print(\"French vocabulary size:\", french_vocab_size) #345"
   ]
  },
  {
   "cell_type": "markdown",
   "metadata": {},
   "source": [
    "#### 7. 단어ID 값을 프랑스어로 출력"
   ]
  },
  {
   "cell_type": "code",
   "execution_count": 24,
   "metadata": {},
   "outputs": [
    {
     "name": "stdout",
     "output_type": "stream",
     "text": [
      "`logits_to_text` function loaded.\n"
     ]
    }
   ],
   "source": [
    "def logits_to_text(logits, tokenizer):\n",
    "    \n",
    "    index_to_words = {id: word for word, id in tokenizer.word_index.items()}\n",
    "    index_to_words[0] = '<PAD>'\n",
    "\n",
    "    return ' '.join([index_to_words[prediction] for prediction in np.argmax(logits, 1)])\n",
    "\n",
    "print('`logits_to_text` function loaded.')"
   ]
  },
  {
   "cell_type": "markdown",
   "metadata": {},
   "source": [
    "#### 8. Model\n",
    "#### simple-RNN, Embedding, Bidirectional RNN, encoder-decoder RNN 4가지 구현"
   ]
  },
  {
   "cell_type": "markdown",
   "metadata": {},
   "source": [
    "#### (1) simple-RNN"
   ]
  },
  {
   "cell_type": "code",
   "execution_count": 26,
   "metadata": {},
   "outputs": [
    {
     "name": "stdout",
     "output_type": "stream",
     "text": [
      "Epoch 1/10\n",
      "108/108 [==============================] - 159s 1s/step - loss: 2.5825 - accuracy: 0.4695 - val_loss: 1.3003 - val_accuracy: 0.6323\n",
      "Epoch 2/10\n",
      "108/108 [==============================] - 152s 1s/step - loss: 1.2925 - accuracy: 0.6303 - val_loss: 1.0747 - val_accuracy: 0.6771\n",
      "Epoch 3/10\n",
      "108/108 [==============================] - 160s 1s/step - loss: 1.1058 - accuracy: 0.6641 - val_loss: 0.9676 - val_accuracy: 0.6950\n",
      "Epoch 4/10\n",
      "108/108 [==============================] - 161s 1s/step - loss: 1.0120 - accuracy: 0.6803 - val_loss: 0.9062 - val_accuracy: 0.6991\n",
      "Epoch 5/10\n",
      "108/108 [==============================] - 160s 1s/step - loss: 0.9491 - accuracy: 0.6911 - val_loss: 0.8756 - val_accuracy: 0.7025\n",
      "Epoch 6/10\n",
      "108/108 [==============================] - 156s 1s/step - loss: 0.9079 - accuracy: 0.6994 - val_loss: 0.8098 - val_accuracy: 0.7241\n",
      "Epoch 7/10\n",
      "108/108 [==============================] - 147s 1s/step - loss: 0.8798 - accuracy: 0.7050 - val_loss: 0.7738 - val_accuracy: 0.7299\n",
      "Epoch 8/10\n",
      "108/108 [==============================] - 145s 1s/step - loss: 0.8279 - accuracy: 0.7208 - val_loss: 0.7504 - val_accuracy: 0.7341\n",
      "Epoch 9/10\n",
      "108/108 [==============================] - 145s 1s/step - loss: 0.8099 - accuracy: 0.7245 - val_loss: 0.6997 - val_accuracy: 0.7637\n",
      "Epoch 10/10\n",
      "108/108 [==============================] - 144s 1s/step - loss: 0.7617 - accuracy: 0.7424 - val_loss: 0.7023 - val_accuracy: 0.7627\n",
      "new jersey est parfois calme en mois de il et il est en en <PAD> <PAD> <PAD> <PAD> <PAD> <PAD> <PAD>\n"
     ]
    }
   ],
   "source": [
    "from keras.models import Sequential\n",
    "from keras.layers import Input, Dropout\n",
    "\n",
    "def simple_model(input_shape, output_sequence_length, english_vocab_size, french_vocab_size):\n",
    "    model = Sequential()\n",
    "    model.add(GRU(256, input_shape=input_shape[1:], return_sequences=True))\n",
    "    model.add(TimeDistributed(Dense(1024, activation='relu')))\n",
    "    model.add(Dropout(0.5))\n",
    "    model.add(TimeDistributed(Dense(french_vocab_size, activation='softmax'))) \n",
    "\n",
    "    model.compile(loss=sparse_categorical_crossentropy,\n",
    "                  optimizer=Adam(0.005),\n",
    "                  metrics=['accuracy'])\n",
    "    \n",
    "    \n",
    "    return model\n",
    "\n",
    "tmp_x = pad(preproc_english_sentences, max_french_sequence_length)\n",
    "tmp_x = tmp_x.reshape((-1, preproc_french_sentences.shape[-2], 1))\n",
    "\n",
    "simple_rnn_model = simple_model(\n",
    "    tmp_x.shape,\n",
    "    max_french_sequence_length,\n",
    "    english_vocab_size,\n",
    "    french_vocab_size)\n",
    "\n",
    "simple_rnn_model.fit(tmp_x, preproc_french_sentences, batch_size=1024, epochs=10, validation_split=0.2)\n",
    "\n",
    "print(logits_to_text(simple_rnn_model.predict(tmp_x[:1])[0], french_tokenizer))"
   ]
  },
  {
   "cell_type": "code",
   "execution_count": 29,
   "metadata": {},
   "outputs": [
    {
     "name": "stdout",
     "output_type": "stream",
     "text": [
      "Prediction:\n",
      "new jersey est parfois calme en mois de il et il est en en <PAD> <PAD> <PAD> <PAD> <PAD> <PAD> <PAD>\n",
      "\n",
      "Correct Translation:\n",
      "[\"new jersey est parfois calme pendant l' automne , et il est neigeux en avril .\"]\n",
      "\n",
      "Original text:\n",
      "['new jersey is sometimes quiet during autumn , and it is snowy in april .']\n"
     ]
    }
   ],
   "source": [
    "# simple RNN 구조보기\n",
    "print(\"Prediction:\")\n",
    "print(logits_to_text(simple_rnn_model.predict(tmp_x[:1])[0], french_tokenizer))\n",
    "\n",
    "print(\"\\nCorrect Translation:\")\n",
    "print(french_sentences[:1])\n",
    "\n",
    "print(\"\\nOriginal text:\")\n",
    "print(english_sentences[:1])"
   ]
  },
  {
   "cell_type": "markdown",
   "metadata": {},
   "source": [
    "#### (2) Embedding"
   ]
  },
  {
   "cell_type": "code",
   "execution_count": 30,
   "metadata": {},
   "outputs": [
    {
     "name": "stdout",
     "output_type": "stream",
     "text": [
      "Model: \"sequential_1\"\n",
      "_________________________________________________________________\n",
      "Layer (type)                 Output Shape              Param #   \n",
      "=================================================================\n",
      "embedding (Embedding)        (None, 21, 256)           51200     \n",
      "_________________________________________________________________\n",
      "gru_1 (GRU)                  (None, 21, 256)           394752    \n",
      "_________________________________________________________________\n",
      "time_distributed_2 (TimeDist (None, 21, 1024)          263168    \n",
      "_________________________________________________________________\n",
      "dropout_1 (Dropout)          (None, 21, 1024)          0         \n",
      "_________________________________________________________________\n",
      "time_distributed_3 (TimeDist (None, 21, 345)           353625    \n",
      "=================================================================\n",
      "Total params: 1,062,745\n",
      "Trainable params: 1,062,745\n",
      "Non-trainable params: 0\n",
      "_________________________________________________________________\n",
      "Epoch 1/10\n",
      "108/108 [==============================] - 185s 2s/step - loss: 2.3212 - accuracy: 0.5495 - val_loss: 0.5087 - val_accuracy: 0.8362\n",
      "Epoch 2/10\n",
      "108/108 [==============================] - 171s 2s/step - loss: 0.4764 - accuracy: 0.8459 - val_loss: 0.3113 - val_accuracy: 0.8969\n",
      "Epoch 3/10\n",
      "108/108 [==============================] - 168s 2s/step - loss: 0.3119 - accuracy: 0.8969 - val_loss: 0.2474 - val_accuracy: 0.9162\n",
      "Epoch 4/10\n",
      "108/108 [==============================] - 168s 2s/step - loss: 0.2563 - accuracy: 0.9141 - val_loss: 0.2171 - val_accuracy: 0.9250\n",
      "Epoch 5/10\n",
      "108/108 [==============================] - 168s 2s/step - loss: 0.2250 - accuracy: 0.9230 - val_loss: 0.2029 - val_accuracy: 0.9299\n",
      "Epoch 6/10\n",
      "108/108 [==============================] - 170s 2s/step - loss: 0.2064 - accuracy: 0.9287 - val_loss: 0.1990 - val_accuracy: 0.9309\n",
      "Epoch 7/10\n",
      "108/108 [==============================] - 165s 2s/step - loss: 0.2017 - accuracy: 0.9295 - val_loss: 0.1899 - val_accuracy: 0.9334\n",
      "Epoch 8/10\n",
      "108/108 [==============================] - 164s 2s/step - loss: 0.1883 - accuracy: 0.9332 - val_loss: 0.1878 - val_accuracy: 0.9341\n",
      "Epoch 9/10\n",
      "108/108 [==============================] - 173s 2s/step - loss: 0.1845 - accuracy: 0.9346 - val_loss: 0.1842 - val_accuracy: 0.9361\n",
      "Epoch 10/10\n",
      "108/108 [==============================] - 167s 2s/step - loss: 0.1790 - accuracy: 0.9359 - val_loss: 0.1826 - val_accuracy: 0.9357\n",
      "new jersey est parfois calme en l' automne et il est neigeux en avril <PAD> <PAD> <PAD> <PAD> <PAD> <PAD> <PAD>\n"
     ]
    }
   ],
   "source": [
    "def embed_model(input_shape, output_sequence_length, english_vocab_size, french_vocab_size):\n",
    "\n",
    "    model = Sequential()\n",
    "    model.add(Embedding(english_vocab_size, 256, input_length=input_shape[1], input_shape=input_shape[1:]))\n",
    "    model.add(GRU(256, return_sequences=True))    \n",
    "    model.add(TimeDistributed(Dense(1024, activation='relu')))\n",
    "    model.add(Dropout(0.5))\n",
    "    model.add(TimeDistributed(Dense(french_vocab_size, activation='softmax'))) \n",
    "\n",
    "    model.compile(loss=sparse_categorical_crossentropy,\n",
    "                  optimizer=Adam(0.005),\n",
    "                  metrics=['accuracy'])\n",
    "    return model\n",
    "\n",
    "\n",
    "tmp_x = pad(preproc_english_sentences, preproc_french_sentences.shape[1])\n",
    "tmp_x = tmp_x.reshape((-1, preproc_french_sentences.shape[-2]))\n",
    "\n",
    "embed_rnn_model = embed_model(\n",
    "    tmp_x.shape,\n",
    "    preproc_french_sentences.shape[1],\n",
    "    len(english_tokenizer.word_index)+1,\n",
    "    len(french_tokenizer.word_index)+1)\n",
    "\n",
    "embed_rnn_model.summary()\n",
    "\n",
    "embed_rnn_model.fit(tmp_x, preproc_french_sentences, batch_size=1024, epochs=10, validation_split=0.2)\n",
    "\n",
    "print(logits_to_text(embed_rnn_model.predict(tmp_x[:1])[0], french_tokenizer))"
   ]
  },
  {
   "cell_type": "markdown",
   "metadata": {},
   "source": [
    "#### (3) Bidirectional RNNs"
   ]
  },
  {
   "cell_type": "code",
   "execution_count": 31,
   "metadata": {},
   "outputs": [
    {
     "name": "stdout",
     "output_type": "stream",
     "text": [
      "Model: \"sequential_2\"\n",
      "_________________________________________________________________\n",
      "Layer (type)                 Output Shape              Param #   \n",
      "=================================================================\n",
      "embedding_1 (Embedding)      (None, 21, 256)           51200     \n",
      "_________________________________________________________________\n",
      "gru_2 (GRU)                  (None, 21, 256)           394752    \n",
      "_________________________________________________________________\n",
      "time_distributed_4 (TimeDist (None, 21, 1024)          263168    \n",
      "_________________________________________________________________\n",
      "dropout_2 (Dropout)          (None, 21, 1024)          0         \n",
      "_________________________________________________________________\n",
      "time_distributed_5 (TimeDist (None, 21, 345)           353625    \n",
      "=================================================================\n",
      "Total params: 1,062,745\n",
      "Trainable params: 1,062,745\n",
      "Non-trainable params: 0\n",
      "_________________________________________________________________\n",
      "Epoch 1/10\n",
      "108/108 [==============================] - 171s 2s/step - loss: 2.3120 - accuracy: 0.5475 - val_loss: 0.4571 - val_accuracy: 0.8532\n",
      "Epoch 2/10\n",
      "108/108 [==============================] - 163s 2s/step - loss: 0.4332 - accuracy: 0.8599 - val_loss: 0.2871 - val_accuracy: 0.9032\n",
      "Epoch 3/10\n",
      "108/108 [==============================] - 159s 1s/step - loss: 0.2950 - accuracy: 0.9011 - val_loss: 0.2379 - val_accuracy: 0.9187\n",
      "Epoch 4/10\n",
      "108/108 [==============================] - 163s 2s/step - loss: 0.2415 - accuracy: 0.9176 - val_loss: 0.2140 - val_accuracy: 0.9260\n",
      "Epoch 5/10\n",
      "108/108 [==============================] - 167s 2s/step - loss: 0.2205 - accuracy: 0.9237 - val_loss: 0.2013 - val_accuracy: 0.9301\n",
      "Epoch 6/10\n",
      "108/108 [==============================] - 173s 2s/step - loss: 0.2012 - accuracy: 0.9298 - val_loss: 0.1949 - val_accuracy: 0.9321\n",
      "Epoch 7/10\n",
      "108/108 [==============================] - 159s 1s/step - loss: 0.1947 - accuracy: 0.9320 - val_loss: 0.1882 - val_accuracy: 0.9336\n",
      "Epoch 8/10\n",
      "108/108 [==============================] - 159s 1s/step - loss: 0.1873 - accuracy: 0.9334 - val_loss: 0.1840 - val_accuracy: 0.9355\n",
      "Epoch 9/10\n",
      "108/108 [==============================] - 159s 1s/step - loss: 0.1788 - accuracy: 0.9360 - val_loss: 0.1809 - val_accuracy: 0.9365\n",
      "Epoch 10/10\n",
      "108/108 [==============================] - 170s 2s/step - loss: 0.1765 - accuracy: 0.9364 - val_loss: 0.1806 - val_accuracy: 0.9370\n",
      "new jersey est parfois calme en l' automne et il est neigeux en avril <PAD> <PAD> <PAD> <PAD> <PAD> <PAD> <PAD>\n"
     ]
    }
   ],
   "source": [
    "def bd_model(input_shape, output_sequence_length, english_vocab_size, french_vocab_size):\n",
    "\n",
    "    model = Sequential()\n",
    "    model.add(Bidirectional(GRU(128, return_sequences=True), input_shape=input_shape[1:]))\n",
    "    model.add(TimeDistributed(Dense(1024, activation='relu')))\n",
    "    model.add(Dropout(0.5))\n",
    "    model.add(TimeDistributed(Dense(french_vocab_size, activation='softmax'))) \n",
    "\n",
    "    model.compile(loss=sparse_categorical_crossentropy,\n",
    "                  optimizer=Adam(learning_rate),\n",
    "                  metrics=['accuracy'])\n",
    "    return model\n",
    "\n",
    "\n",
    "tmp_x = pad(preproc_english_sentences, preproc_french_sentences.shape[1])\n",
    "tmp_x = tmp_x.reshape((-1, preproc_french_sentences.shape[-2]))\n",
    "\n",
    "bd_rnn_model = embed_model(\n",
    "    tmp_x.shape,\n",
    "    preproc_french_sentences.shape[1],\n",
    "    len(english_tokenizer.word_index)+1,\n",
    "    len(french_tokenizer.word_index)+1)\n",
    "\n",
    "bd_rnn_model.summary()\n",
    "\n",
    "bd_rnn_model.fit(tmp_x, preproc_french_sentences, batch_size=1024, epochs=10, validation_split=0.2)\n",
    "\n",
    "print(logits_to_text(bd_rnn_model.predict(tmp_x[:1])[0], french_tokenizer))"
   ]
  },
  {
   "cell_type": "markdown",
   "metadata": {},
   "source": [
    "#### (4) Encoder-decoder"
   ]
  },
  {
   "cell_type": "code",
   "execution_count": 32,
   "metadata": {},
   "outputs": [
    {
     "name": "stdout",
     "output_type": "stream",
     "text": [
      "Model: \"sequential_3\"\n",
      "_________________________________________________________________\n",
      "Layer (type)                 Output Shape              Param #   \n",
      "=================================================================\n",
      "gru_3 (GRU)                  (None, 256)               198912    \n",
      "_________________________________________________________________\n",
      "repeat_vector (RepeatVector) (None, 21, 256)           0         \n",
      "_________________________________________________________________\n",
      "gru_4 (GRU)                  (None, 21, 256)           394752    \n",
      "_________________________________________________________________\n",
      "time_distributed_6 (TimeDist (None, 21, 1024)          263168    \n",
      "_________________________________________________________________\n",
      "dropout_3 (Dropout)          (None, 21, 1024)          0         \n",
      "_________________________________________________________________\n",
      "time_distributed_7 (TimeDist (None, 21, 345)           353625    \n",
      "=================================================================\n",
      "Total params: 1,210,457\n",
      "Trainable params: 1,210,457\n",
      "Non-trainable params: 0\n",
      "_________________________________________________________________\n",
      "Epoch 1/10\n",
      "108/108 [==============================] - 221s 2s/step - loss: 3.0881 - accuracy: 0.4216 - val_loss: 1.8089 - val_accuracy: 0.5675\n",
      "Epoch 2/10\n",
      "108/108 [==============================] - 216s 2s/step - loss: 1.7375 - accuracy: 0.5630 - val_loss: 1.4270 - val_accuracy: 0.6140\n",
      "Epoch 3/10\n",
      "108/108 [==============================] - 216s 2s/step - loss: 1.4427 - accuracy: 0.6060 - val_loss: 1.3168 - val_accuracy: 0.6324\n",
      "Epoch 4/10\n",
      "108/108 [==============================] - 217s 2s/step - loss: 1.3453 - accuracy: 0.6277 - val_loss: 1.2474 - val_accuracy: 0.6562\n",
      "Epoch 5/10\n",
      "108/108 [==============================] - 216s 2s/step - loss: 1.2743 - accuracy: 0.6441 - val_loss: 1.1996 - val_accuracy: 0.6604\n",
      "Epoch 6/10\n",
      "108/108 [==============================] - 215s 2s/step - loss: 1.2214 - accuracy: 0.6547 - val_loss: 1.1303 - val_accuracy: 0.6749\n",
      "Epoch 7/10\n",
      "108/108 [==============================] - 215s 2s/step - loss: 1.1620 - accuracy: 0.6658 - val_loss: 1.1478 - val_accuracy: 0.6668\n",
      "Epoch 8/10\n",
      "108/108 [==============================] - 216s 2s/step - loss: 1.1564 - accuracy: 0.6651 - val_loss: 1.0600 - val_accuracy: 0.6882\n",
      "Epoch 9/10\n",
      "108/108 [==============================] - 216s 2s/step - loss: 1.1060 - accuracy: 0.6767 - val_loss: 1.0284 - val_accuracy: 0.6971\n",
      "Epoch 10/10\n",
      "108/108 [==============================] - 216s 2s/step - loss: 1.0667 - accuracy: 0.6866 - val_loss: 1.0423 - val_accuracy: 0.6896\n",
      "new jersey est parfois chaud en l' et il est est en en <PAD> <PAD> <PAD> <PAD> <PAD> <PAD> <PAD> <PAD>\n"
     ]
    }
   ],
   "source": [
    "def encdec_model(input_shape, output_sequence_length, english_vocab_size, french_vocab_size):\n",
    "  \n",
    "    model = Sequential()\n",
    "    # Encoder\n",
    "    model.add(GRU(256, input_shape=input_shape[1:], go_backwards=True))\n",
    "    model.add(RepeatVector(output_sequence_length))\n",
    "    # Decoder\n",
    "    model.add(GRU(256, return_sequences=True))\n",
    "    model.add(TimeDistributed(Dense(1024, activation='relu')))\n",
    "    model.add(Dropout(0.5))\n",
    "    model.add(TimeDistributed(Dense(french_vocab_size, activation='softmax')))\n",
    "\n",
    "    model.compile(loss=sparse_categorical_crossentropy,\n",
    "                  optimizer=Adam(0.001),\n",
    "                  metrics=['accuracy'])\n",
    "    \n",
    "    return model\n",
    "\n",
    "tmp_x = pad(preproc_english_sentences, preproc_french_sentences.shape[1])\n",
    "tmp_x = tmp_x.reshape((-1, preproc_french_sentences.shape[-2], 1))\n",
    "\n",
    "encdec_rnn_model = encdec_model(\n",
    "    tmp_x.shape,\n",
    "    preproc_french_sentences.shape[1],\n",
    "    len(english_tokenizer.word_index)+1,\n",
    "    len(french_tokenizer.word_index)+1)\n",
    "\n",
    "encdec_rnn_model.summary()\n",
    "\n",
    "encdec_rnn_model.fit(tmp_x, preproc_french_sentences, batch_size=1024, epochs=10, validation_split=0.2)\n",
    "\n",
    "print(logits_to_text(encdec_rnn_model.predict(tmp_x[:1])[0], french_tokenizer))"
   ]
  },
  {
   "cell_type": "code",
   "execution_count": 34,
   "metadata": {},
   "outputs": [
    {
     "name": "stdout",
     "output_type": "stream",
     "text": [
      "Final Model Loaded\n"
     ]
    }
   ],
   "source": [
    "def model_final(input_shape, output_sequence_length, english_vocab_size, french_vocab_size):\n",
    "    \"\"\"\n",
    "    Build and train a model that incorporates embedding, encoder-decoder, and bidirectional RNN on x and y\n",
    "    :param input_shape: Tuple of input shape\n",
    "    :param output_sequence_length: Length of output sequence\n",
    "    :param english_vocab_size: Number of unique English words in the dataset\n",
    "    :param french_vocab_size: Number of unique French words in the dataset\n",
    "    :return: Keras model built, but not trained\n",
    "    \"\"\"\n",
    "\n",
    "    model = Sequential()\n",
    "    model.add(Embedding(input_dim=english_vocab_size,output_dim=128,input_length=input_shape[1]))\n",
    "    model.add(Bidirectional(GRU(256,return_sequences=False)))\n",
    "    model.add(RepeatVector(output_sequence_length))\n",
    "    model.add(Bidirectional(GRU(256,return_sequences=True)))\n",
    "    model.add(TimeDistributed(Dense(french_vocab_size,activation='softmax')))\n",
    "    learning_rate = 0.005\n",
    "    \n",
    "    model.compile(loss = sparse_categorical_crossentropy, \n",
    "                 optimizer = Adam(learning_rate), \n",
    "                 metrics = ['accuracy'])\n",
    "    \n",
    "    return model\n",
    "\n",
    "\n",
    "print('Final Model Loaded')"
   ]
  },
  {
   "cell_type": "code",
   "execution_count": null,
   "metadata": {},
   "outputs": [
    {
     "name": "stdout",
     "output_type": "stream",
     "text": [
      "Epoch 1/17\n",
      " 75/108 [===================>..........] - ETA: 1:34 - loss: 3.0050 - accuracy: 0.4310"
     ]
    }
   ],
   "source": [
    "def final_predictions(x, y, x_tk, y_tk):\n",
    "    \"\"\"\n",
    "    Gets predictions using the final model\n",
    "    :param x: Preprocessed English data\n",
    "    :param y: Preprocessed French data\n",
    "    :param x_tk: English tokenizer\n",
    "    :param y_tk: French tokenizer\n",
    "    \"\"\"\n",
    "    tmp_X = pad(preproc_english_sentences)\n",
    "    model = model_final(tmp_X.shape,\n",
    "                        preproc_french_sentences.shape[1],\n",
    "                        len(english_tokenizer.word_index)+1,\n",
    "                        len(french_tokenizer.word_index)+1)\n",
    "    \n",
    "    model.fit(tmp_X, preproc_french_sentences, batch_size = 1024, epochs = 17, validation_split = 0.2)\n",
    " \n",
    "    y_id_to_word = {value: key for key, value in y_tk.word_index.items()}\n",
    "    y_id_to_word[0] = '<PAD>'\n",
    "\n",
    "    sentence = 'he saw a old yellow truck'\n",
    "    sentence = [x_tk.word_index[word] for word in sentence.split()]\n",
    "    sentence = pad_sequences([sentence], maxlen=x.shape[-1], padding='post')\n",
    "    sentences = np.array([sentence[0], x[0]])\n",
    "    predictions = model.predict(sentences, len(sentences))\n",
    "\n",
    "    print('Sample 1:')\n",
    "    print(' '.join([y_id_to_word[np.argmax(x)] for x in predictions[0]]))\n",
    "    print('Il a vu un vieux camion jaune')\n",
    "    print('Sample 2:')\n",
    "    print(' '.join([y_id_to_word[np.argmax(x)] for x in predictions[1]]))\n",
    "    print(' '.join([y_id_to_word[np.max(x)] for x in y[0]]))\n",
    "\n",
    "\n",
    "final_predictions(preproc_english_sentences, preproc_french_sentences, english_tokenizer, french_tokenizer)"
   ]
  },
  {
   "cell_type": "code",
   "execution_count": null,
   "metadata": {},
   "outputs": [],
   "source": []
  }
 ],
 "metadata": {
  "kernelspec": {
   "display_name": "Python 3",
   "language": "python",
   "name": "python3"
  },
  "language_info": {
   "codemirror_mode": {
    "name": "ipython",
    "version": 3
   },
   "file_extension": ".py",
   "mimetype": "text/x-python",
   "name": "python",
   "nbconvert_exporter": "python",
   "pygments_lexer": "ipython3",
   "version": "3.8.5"
  }
 },
 "nbformat": 4,
 "nbformat_minor": 4
}
