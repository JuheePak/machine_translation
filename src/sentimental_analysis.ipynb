{
 "cells": [
  {
   "cell_type": "markdown",
   "metadata": {},
   "source": [
    "### Sentimental_analysis"
   ]
  },
  {
   "cell_type": "markdown",
   "metadata": {},
   "source": [
    "#### 1. 데이터 읽어오기"
   ]
  },
  {
   "cell_type": "code",
   "execution_count": null,
   "metadata": {},
   "outputs": [],
   "source": [
    "import numpy as np\n",
    "import keras\n",
    "from  keras.preprocessing.text import Tokenizer\n",
    "from keras.preprocessing.sequence import pad_sequences\n",
    "import os\n",
    "import pandas as pd\n",
    "from keras.utils import to_categorical\n",
    "import matplotlib.pyplot as plt\n",
    "from sklearn.metrics import classification_report"
   ]
  },
  {
   "cell_type": "code",
   "execution_count": null,
   "metadata": {},
   "outputs": [],
   "source": [
    "df_train = pd.read_csv('/content/drive/MyDrive/sentimental_analysis_project/data/train.txt', header =None, sep =';', names = ['Sentence','Emotion'], encoding='utf-8')\n",
    "df_test = pd.read_csv('/content/drive/MyDrive/sentimental_analysis_project/data/test.txt', header = None, sep =';', names = ['Sentence','Emotion'],encoding='utf-8')\n",
    "df_val=pd.read_csv('/content/drive/MyDrive/sentimental_analysis_project/data/val.txt',header=None,sep=';',names=['Sentence','Emotion'],encoding='utf-8')"
   ]
  },
  {
   "cell_type": "code",
   "execution_count": null,
   "metadata": {},
   "outputs": [],
   "source": [
    "df_train.info()"
   ]
  },
  {
   "cell_type": "markdown",
   "metadata": {},
   "source": [
    "#### 2. train_set 데이터 분포와 특징 확인"
   ]
  },
  {
   "cell_type": "code",
   "execution_count": null,
   "metadata": {},
   "outputs": [],
   "source": [
    "df_train['Emotion'].value_counts()"
   ]
  },
  {
   "cell_type": "code",
   "execution_count": null,
   "metadata": {},
   "outputs": [],
   "source": [
    "# 막대 그래프 그려 확인하기\n",
    "# 전체 값의 10%의 적은 비중을 차지하는 surprise 같은 경우 불균형 데이터라고 여겨질 수 있어 눈여겨 보아야 한다. \n",
    "value=df_train['Emotion'].value_counts()\n",
    "plt.bar(value.index, value.values)"
   ]
  },
  {
   "cell_type": "markdown",
   "metadata": {},
   "source": [
    "#### 3. wordcloud로 분포 확인하기"
   ]
  },
  {
   "cell_type": "code",
   "execution_count": null,
   "metadata": {},
   "outputs": [],
   "source": [
    "import nltk\n",
    "from nltk.corpus import stopwords\n",
    "from nltk import sent_tokenize, word_tokenize\n",
    "from wordcloud import WordCloud, STOPWORDS, ImageColorGenerator\n",
    "from collections import Counter\n",
    "from nltk.tokenize import RegexpTokenizer\n",
    "import re"
   ]
  },
  {
   "cell_type": "code",
   "execution_count": null,
   "metadata": {},
   "outputs": [],
   "source": [
    "# 빈도수가 높은 단어를 출력하여 시각화한다."
   ]
  },
  {
   "cell_type": "code",
   "execution_count": null,
   "metadata": {},
   "outputs": [],
   "source": [
    "# 공백 문자 기준 잘라 소문자로 모두 변환하여 리스트 형식으로 담는다.\n",
    "tokens = re.findall(\"[\\w']+\", df_train['Sentence'].str.lower().str.cat(sep=' ')) "
   ]
  },
  {
   "cell_type": "code",
   "execution_count": null,
   "metadata": {},
   "outputs": [],
   "source": [
    "# nltk의 stopwords를 가져와 tokens 변수에서 stopwords에 해당되지 않는 단어를 걸러 filtered_sentence에 저장한다.\n",
    "nltk.download('stopwords')\n",
    "en_stops = set(stopwords.words('english'))\n",
    "\n",
    "filtered_sentence = []\n",
    "filtered_sentence=[word for word in tokens if word not in en_stops]"
   ]
  },
  {
   "cell_type": "code",
   "execution_count": null,
   "metadata": {},
   "outputs": [],
   "source": [
    "text = list(set(filtered_sentence)) # 중복 제거\n",
    "\n",
    "# 전체데이터의 wordcloud 출력\n",
    "plt.rcParams['figure.figsize'] = (16, 16)\n",
    "wordcloud = WordCloud(max_font_size=50, max_words=100,background_color=\"white\").generate(' '.join(text))\n",
    "plt.imshow(wordcloud,interpolation=\"bilinear\")\n",
    "plt.axis(\"off\")\n",
    "plt.show()"
   ]
  },
  {
   "cell_type": "code",
   "execution_count": null,
   "metadata": {},
   "outputs": [],
   "source": [
    "# 하나의 감정분류(sadness, anger, etc.)의 wordcloud를 보고 싶다면 아래와 전처리하고 filtered_sentence에 담아 출력한다."
   ]
  },
  {
   "cell_type": "code",
   "execution_count": null,
   "metadata": {},
   "outputs": [],
   "source": [
    "# fear에 해당하는 데이터만 갖고 오기\n",
    "tokens = re.findall(\"[\\w']+\", df_train[df_train['Emotion']=='fear']['Sentence'].str.lower().str.cat(sep=' '))\n",
    "filtered_sentence = [token for token in tokens if not token in en_stops]\n",
    "filtered_sentence"
   ]
  },
  {
   "cell_type": "markdown",
   "metadata": {},
   "source": [
    "#### 4. validation_set과 test_set data도 확인"
   ]
  },
  {
   "cell_type": "code",
   "execution_count": null,
   "metadata": {},
   "outputs": [],
   "source": [
    "df_val.info()"
   ]
  },
  {
   "cell_type": "code",
   "execution_count": null,
   "metadata": {},
   "outputs": [],
   "source": [
    "df_test.info()"
   ]
  },
  {
   "cell_type": "markdown",
   "metadata": {},
   "source": [
    "#### 5. 단어의 토큰화"
   ]
  },
  {
   "cell_type": "code",
   "execution_count": null,
   "metadata": {},
   "outputs": [],
   "source": [
    "# 단어 혹은 글자 단위로 토큰화(tokenize)\n",
    "nltk.download('punkt')\n",
    "from nltk.tokenize import word_tokenize"
   ]
  },
  {
   "cell_type": "code",
   "execution_count": null,
   "metadata": {},
   "outputs": [],
   "source": [
    "token_sentence = []\n",
    "for sentence in df_train['Sentence']:\n",
    "    token_sentence.append(word_tokenize(sentence))\n",
    "print(token_sentence)\n",
    "\n",
    "df_train['token_sentence'] = token_sentence\n",
    "df_train"
   ]
  },
  {
   "cell_type": "markdown",
   "metadata": {},
   "source": [
    "#### 6. stop_words 제거"
   ]
  },
  {
   "cell_type": "code",
   "execution_count": null,
   "metadata": {},
   "outputs": [],
   "source": [
    "filtered_sentence = []\n",
    "stop_words = set(stopwords.words('english'))\n",
    "\n",
    "for sentence in df_train['token_sentence']:\n",
    "    word_token=[word for word in sentence if word not in stop_words]\n",
    "    filtered_sentence.append(word_token)\n",
    "print(len(filtered_sentence))"
   ]
  },
  {
   "cell_type": "markdown",
   "metadata": {},
   "source": [
    "#### 7. 표준화(Stemming) \n",
    "#### 감성 분석의 경우 시제(과거-현재-미래)에 구분 없이 뜻에 포커스 할 수 있도록 표준화하는 작업이 필요하다."
   ]
  },
  {
   "cell_type": "code",
   "execution_count": null,
   "metadata": {},
   "outputs": [],
   "source": [
    "from nltk.stem import PorterStemmer\n",
    "stemmer = PorterStemmer()"
   ]
  },
  {
   "cell_type": "code",
   "execution_count": null,
   "metadata": {},
   "outputs": [],
   "source": [
    "stemming_sentence = []\n",
    "for sentence in filtered_sentence:\n",
    "    word_token = [stemmer.stem(word) for word in sentence]\n",
    "    stemming_sentence.append(word_token)"
   ]
  },
  {
   "cell_type": "markdown",
   "metadata": {},
   "source": [
    "#### 8. Bag of words(BOW) 만들기"
   ]
  },
  {
   "cell_type": "code",
   "execution_count": null,
   "metadata": {},
   "outputs": [],
   "source": [
    "from  keras.preprocessing.text import Tokenizer\n",
    "tokenizer=Tokenizer(oov_token='UNK')\n",
    "tokenizer.fit_on_texts(stemming_sentence)"
   ]
  },
  {
   "cell_type": "code",
   "execution_count": null,
   "metadata": {},
   "outputs": [],
   "source": [
    "print(len(tokenizer.word_index)) # 10,376 rows\n",
    "tokenizer.word_index "
   ]
  },
  {
   "cell_type": "markdown",
   "metadata": {},
   "source": [
    "#### 9. Padding\n",
    "#### 토큰을 인덱스 값으로 변환"
   ]
  },
  {
   "cell_type": "code",
   "execution_count": null,
   "metadata": {},
   "outputs": [],
   "source": [
    "# sequence로 변경\n",
    "# 문장의 길이가 모두 다르지만 딥러닝은 입력값을 고정값으로 받기 때문에 padding으로 최대 길이에 맞게 맞춰준다.\n",
    "X_train=tokenizer.texts_to_sequences(stemming_sentence)\n",
    "X_train"
   ]
  },
  {
   "cell_type": "code",
   "execution_count": null,
   "metadata": {},
   "outputs": [],
   "source": [
    "# 문장 길이 분포를 그래프로 확인하기\n",
    "import matplotlib.pyplot as plt\n",
    "\n",
    "num_token_per_sentence = [ len(sentence) for sentence in X_train ]\n",
    "# print(max(num_token_per_sentence))\n",
    "plt.hist(num_token_per_sentence)\n",
    "plt.show()"
   ]
  },
  {
   "cell_type": "code",
   "execution_count": null,
   "metadata": {},
   "outputs": [],
   "source": [
    "# pad_sequences를 사용하여 X_train 길이 통일하기\n",
    "X_train_pad=pad_sequences(X_train)\n",
    "X_train_pad"
   ]
  },
  {
   "cell_type": "markdown",
   "metadata": {},
   "source": [
    "#### 10. Label 데이터 변환"
   ]
  },
  {
   "cell_type": "markdown",
   "metadata": {},
   "source": [
    "#### `'joy':0,'anger':1,'love':2,'sadness':3,'fear':4,'surprise':5` 방식으로 맵핑, 변환한다."
   ]
  },
  {
   "cell_type": "code",
   "execution_count": null,
   "metadata": {},
   "outputs": [],
   "source": [
    "df_train['Emotion']=df_train['Emotion'].replace({'joy':0,'anger':1,'love':2,'sadness':3,'fear':4,'surprise':5})\n",
    "df_train['Emotion']\n",
    "y_train = np.array(df_train['Emotion'].values)\n",
    "y_train"
   ]
  },
  {
   "cell_type": "markdown",
   "metadata": {},
   "source": [
    "#### 11. validation, test dataset 데이터도 동일하기 전처리"
   ]
  },
  {
   "cell_type": "code",
   "execution_count": null,
   "metadata": {},
   "outputs": [],
   "source": [
    "stemming_sentence_val = []\n",
    "stemming_sentence_test = []\n",
    "\n",
    "for sentence in df_val['Sentence']:\n",
    "    word_token=word_tokenize(sentence)\n",
    "    word_token=[stemmer.stem(word) for word in word_token]\n",
    "    stemming_sentence_val.append(word_token)\n",
    "    \n",
    "for sentence in df_test['Sentence']:\n",
    "    word_token=word_tokenize(sentence)\n",
    "    word_token=[stemmer.stem(word) for word in word_token]\n",
    "    stemming_sentence_test.append(word_token)\n",
    " \n",
    "X_val=tokenizer.texts_to_sequences(stemming_sentence_val)\n",
    "X_test=tokenizer.texts_to_sequences(stemming_sentence_test)\n",
    "\n",
    "X_val_pad=pad_sequences(X_val)\n",
    "X_test_pad=pad_sequences(X_test)\n",
    "\n",
    "df_val['Emotion']=df_val['Emotion'].replace({'joy':0,'anger':1,'love':2,'sadness':3,'fear':4,'surprise':5})\n",
    "df_test['Emotion']=df_test['Emotion'].replace({'joy':0,'anger':1,'love':2,'sadness':3,'fear':4,'surprise':5})\n",
    "\n",
    "y_val = np.array(df_val['Emotion'].values)\n",
    "y_test = np.array(df_test['Emotion'].values)"
   ]
  },
  {
   "cell_type": "markdown",
   "metadata": {},
   "source": [
    "#### 12. 딥러닝 모델 설정\n",
    "#### 감성 분류를 위해 LSTM을 사용한다."
   ]
  },
  {
   "cell_type": "code",
   "execution_count": null,
   "metadata": {},
   "outputs": [],
   "source": [
    "from tensorflow.keras.models import Sequential\n",
    "from tensorflow.keras.layers import Dense\n",
    "from tensorflow.keras.layers import LSTM, SimpleRNN, Dropout\n",
    "from tensorflow.keras.layers import Embedding\n",
    "from tensorflow.keras.preprocessing import sequence"
   ]
  },
  {
   "cell_type": "code",
   "execution_count": null,
   "metadata": {},
   "outputs": [],
   "source": [
    "sequence_length = 35 # max(num_token_per_sentence)\n",
    "vocabulary_size = len(tokenizer.word_index)+1 # 10376\n",
    "embedding_dim = 256"
   ]
  },
  {
   "cell_type": "code",
   "execution_count": null,
   "metadata": {},
   "outputs": [],
   "source": [
    "model = Sequential([\n",
    "    Embedding(vocabulary_size, embedding_dim),\n",
    "    LSTM(units=50, input_shape=(vocabulary_size, embedding_dim), return_sequences=True),\n",
    "    LSTM(units=25),\n",
    "    Dense(20, activation=\"relu\"),\n",
    "    Dropout(0.05),\n",
    "    Dense(6, activation = \"softmax\")\n",
    "    ])\n",
    "\n",
    "# model compile\n",
    "model.compile(optimizer='adam', loss='sparse_categorical_crossentropy', metrics=['accuracy']\n",
    ")"
   ]
  },
  {
   "cell_type": "markdown",
   "metadata": {},
   "source": [
    "#### 13. 학습\n",
    "#### epoch = 10, batch_size = 64"
   ]
  },
  {
   "cell_type": "code",
   "execution_count": null,
   "metadata": {},
   "outputs": [],
   "source": [
    "history=model.fit(X_train_pad, y_train, batch_size=64, epochs=10, validation_data=(X_val_pad, y_val))"
   ]
  },
  {
   "cell_type": "markdown",
   "metadata": {},
   "source": [
    "#### 14. 평가 및 예측"
   ]
  },
  {
   "cell_type": "code",
   "execution_count": null,
   "metadata": {},
   "outputs": [],
   "source": [
    "test_loss, test_accuracy = model.evaluate(X_test_pad, y_test)\n",
    "\n",
    "print('test set accuracy: ', test_accuracy)"
   ]
  },
  {
   "cell_type": "code",
   "execution_count": null,
   "metadata": {},
   "outputs": [],
   "source": [
    "test_prediction =model.predict(X_test_pad)\n",
    "test_prediction"
   ]
  },
  {
   "cell_type": "code",
   "execution_count": null,
   "metadata": {},
   "outputs": [],
   "source": [
    "for i in range(5): \n",
    "    test_prediction\n",
    "    print(\"{} 번째 테스트 데이터 문장: \\n{}\".format(i, df_test['Sentence'][i]))\n",
    "    print(\"{} 번째 테스트 데이터의 예측 결과: {}, 실제 데이터: {}\\n\".format(i, test_prediction[i], df_test['Emotion'][i]))"
   ]
  },
  {
   "cell_type": "code",
   "execution_count": null,
   "metadata": {},
   "outputs": [],
   "source": []
  },
  {
   "cell_type": "code",
   "execution_count": null,
   "metadata": {},
   "outputs": [],
   "source": []
  },
  {
   "cell_type": "code",
   "execution_count": null,
   "metadata": {},
   "outputs": [],
   "source": []
  },
  {
   "cell_type": "code",
   "execution_count": null,
   "metadata": {},
   "outputs": [],
   "source": []
  }
 ],
 "metadata": {
  "kernelspec": {
   "display_name": "Python 3",
   "language": "python",
   "name": "python3"
  },
  "language_info": {
   "codemirror_mode": {
    "name": "ipython",
    "version": 3
   },
   "file_extension": ".py",
   "mimetype": "text/x-python",
   "name": "python",
   "nbconvert_exporter": "python",
   "pygments_lexer": "ipython3",
   "version": "3.8.5"
  }
 },
 "nbformat": 4,
 "nbformat_minor": 4
}
